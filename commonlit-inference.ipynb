{
 "cells": [
  {
   "cell_type": "code",
   "execution_count": 1,
   "id": "ranging-maldives",
   "metadata": {
    "_cell_guid": "b1076dfc-b9ad-4769-8c92-a6c4dae69d19",
    "_uuid": "8f2839f25d086af736a60e9eeb907d3b93b6e0e5",
    "execution": {
     "iopub.execute_input": "2021-06-30T05:26:16.269877Z",
     "iopub.status.busy": "2021-06-30T05:26:16.269226Z",
     "iopub.status.idle": "2021-06-30T05:26:17.671945Z",
     "shell.execute_reply": "2021-06-30T05:26:17.671358Z",
     "shell.execute_reply.started": "2021-06-28T19:02:43.658257Z"
    },
    "papermill": {
     "duration": 1.419317,
     "end_time": "2021-06-30T05:26:17.672101",
     "exception": false,
     "start_time": "2021-06-30T05:26:16.252784",
     "status": "completed"
    },
    "tags": []
   },
   "outputs": [],
   "source": [
    "import pandas as pd\n",
    "import numpy as np\n",
    "import re\n",
    "import torch\n",
    "import torch.nn as nn\n",
    "from torch.utils.data import DataLoader, Dataset\n",
    "from transformers import (\n",
    "    RobertaTokenizer,\n",
    "    RobertaModel,\n",
    "    RobertaConfig\n",
    ")\n",
    "from tqdm import tqdm"
   ]
  },
  {
   "cell_type": "code",
   "execution_count": 2,
   "id": "processed-variance",
   "metadata": {
    "execution": {
     "iopub.execute_input": "2021-06-30T05:26:17.689509Z",
     "iopub.status.busy": "2021-06-30T05:26:17.688936Z",
     "iopub.status.idle": "2021-06-30T05:26:17.813842Z",
     "shell.execute_reply": "2021-06-30T05:26:17.813387Z",
     "shell.execute_reply.started": "2021-06-28T19:02:45.007117Z"
    },
    "papermill": {
     "duration": 0.135745,
     "end_time": "2021-06-30T05:26:17.813971",
     "exception": false,
     "start_time": "2021-06-30T05:26:17.678226",
     "status": "completed"
    },
    "tags": []
   },
   "outputs": [
    {
     "data": {
      "text/html": [
       "<div>\n",
       "<style scoped>\n",
       "    .dataframe tbody tr th:only-of-type {\n",
       "        vertical-align: middle;\n",
       "    }\n",
       "\n",
       "    .dataframe tbody tr th {\n",
       "        vertical-align: top;\n",
       "    }\n",
       "\n",
       "    .dataframe thead th {\n",
       "        text-align: right;\n",
       "    }\n",
       "</style>\n",
       "<table border=\"1\" class=\"dataframe\">\n",
       "  <thead>\n",
       "    <tr style=\"text-align: right;\">\n",
       "      <th></th>\n",
       "      <th>id</th>\n",
       "      <th>url_legal</th>\n",
       "      <th>license</th>\n",
       "      <th>excerpt</th>\n",
       "      <th>target</th>\n",
       "      <th>standard_error</th>\n",
       "    </tr>\n",
       "  </thead>\n",
       "  <tbody>\n",
       "    <tr>\n",
       "      <th>0</th>\n",
       "      <td>c12129c31</td>\n",
       "      <td>NaN</td>\n",
       "      <td>NaN</td>\n",
       "      <td>When the young people returned to the ballroom...</td>\n",
       "      <td>-0.340259</td>\n",
       "      <td>0.464009</td>\n",
       "    </tr>\n",
       "    <tr>\n",
       "      <th>1</th>\n",
       "      <td>85aa80a4c</td>\n",
       "      <td>NaN</td>\n",
       "      <td>NaN</td>\n",
       "      <td>All through dinner time, Mrs. Fayre was somewh...</td>\n",
       "      <td>-0.315372</td>\n",
       "      <td>0.480805</td>\n",
       "    </tr>\n",
       "    <tr>\n",
       "      <th>2</th>\n",
       "      <td>b69ac6792</td>\n",
       "      <td>NaN</td>\n",
       "      <td>NaN</td>\n",
       "      <td>As Roger had predicted, the snow departed as q...</td>\n",
       "      <td>-0.580118</td>\n",
       "      <td>0.476676</td>\n",
       "    </tr>\n",
       "    <tr>\n",
       "      <th>3</th>\n",
       "      <td>dd1000b26</td>\n",
       "      <td>NaN</td>\n",
       "      <td>NaN</td>\n",
       "      <td>And outside before the palace a great garden w...</td>\n",
       "      <td>-1.054013</td>\n",
       "      <td>0.450007</td>\n",
       "    </tr>\n",
       "    <tr>\n",
       "      <th>4</th>\n",
       "      <td>37c1b32fb</td>\n",
       "      <td>NaN</td>\n",
       "      <td>NaN</td>\n",
       "      <td>Once upon a time there were Three Bears who li...</td>\n",
       "      <td>0.247197</td>\n",
       "      <td>0.510845</td>\n",
       "    </tr>\n",
       "    <tr>\n",
       "      <th>...</th>\n",
       "      <td>...</td>\n",
       "      <td>...</td>\n",
       "      <td>...</td>\n",
       "      <td>...</td>\n",
       "      <td>...</td>\n",
       "      <td>...</td>\n",
       "    </tr>\n",
       "    <tr>\n",
       "      <th>2829</th>\n",
       "      <td>25ca8f498</td>\n",
       "      <td>https://sites.ehe.osu.edu/beyondpenguins/files...</td>\n",
       "      <td>CC BY-SA 3.0</td>\n",
       "      <td>When you think of dinosaurs and where they liv...</td>\n",
       "      <td>1.711390</td>\n",
       "      <td>0.646900</td>\n",
       "    </tr>\n",
       "    <tr>\n",
       "      <th>2830</th>\n",
       "      <td>2c26db523</td>\n",
       "      <td>https://en.wikibooks.org/wiki/Wikijunior:The_E...</td>\n",
       "      <td>CC BY-SA 3.0</td>\n",
       "      <td>So what is a solid? Solids are usually hard be...</td>\n",
       "      <td>0.189476</td>\n",
       "      <td>0.535648</td>\n",
       "    </tr>\n",
       "    <tr>\n",
       "      <th>2831</th>\n",
       "      <td>cd19e2350</td>\n",
       "      <td>https://en.wikibooks.org/wiki/Wikijunior:The_E...</td>\n",
       "      <td>CC BY-SA 3.0</td>\n",
       "      <td>The second state of matter we will discuss is ...</td>\n",
       "      <td>0.255209</td>\n",
       "      <td>0.483866</td>\n",
       "    </tr>\n",
       "    <tr>\n",
       "      <th>2832</th>\n",
       "      <td>15e2e9e7a</td>\n",
       "      <td>https://en.wikibooks.org/wiki/Geometry_for_Ele...</td>\n",
       "      <td>CC BY-SA 3.0</td>\n",
       "      <td>Solids are shapes that you can actually touch....</td>\n",
       "      <td>-0.215279</td>\n",
       "      <td>0.514128</td>\n",
       "    </tr>\n",
       "    <tr>\n",
       "      <th>2833</th>\n",
       "      <td>5b990ba77</td>\n",
       "      <td>https://en.wikibooks.org/wiki/Wikijunior:Biolo...</td>\n",
       "      <td>CC BY-SA 3.0</td>\n",
       "      <td>Animals are made of many cells. They eat thing...</td>\n",
       "      <td>0.300779</td>\n",
       "      <td>0.512379</td>\n",
       "    </tr>\n",
       "  </tbody>\n",
       "</table>\n",
       "<p>2834 rows × 6 columns</p>\n",
       "</div>"
      ],
      "text/plain": [
       "             id                                          url_legal  \\\n",
       "0     c12129c31                                                NaN   \n",
       "1     85aa80a4c                                                NaN   \n",
       "2     b69ac6792                                                NaN   \n",
       "3     dd1000b26                                                NaN   \n",
       "4     37c1b32fb                                                NaN   \n",
       "...         ...                                                ...   \n",
       "2829  25ca8f498  https://sites.ehe.osu.edu/beyondpenguins/files...   \n",
       "2830  2c26db523  https://en.wikibooks.org/wiki/Wikijunior:The_E...   \n",
       "2831  cd19e2350  https://en.wikibooks.org/wiki/Wikijunior:The_E...   \n",
       "2832  15e2e9e7a  https://en.wikibooks.org/wiki/Geometry_for_Ele...   \n",
       "2833  5b990ba77  https://en.wikibooks.org/wiki/Wikijunior:Biolo...   \n",
       "\n",
       "           license                                            excerpt  \\\n",
       "0              NaN  When the young people returned to the ballroom...   \n",
       "1              NaN  All through dinner time, Mrs. Fayre was somewh...   \n",
       "2              NaN  As Roger had predicted, the snow departed as q...   \n",
       "3              NaN  And outside before the palace a great garden w...   \n",
       "4              NaN  Once upon a time there were Three Bears who li...   \n",
       "...            ...                                                ...   \n",
       "2829  CC BY-SA 3.0  When you think of dinosaurs and where they liv...   \n",
       "2830  CC BY-SA 3.0  So what is a solid? Solids are usually hard be...   \n",
       "2831  CC BY-SA 3.0  The second state of matter we will discuss is ...   \n",
       "2832  CC BY-SA 3.0  Solids are shapes that you can actually touch....   \n",
       "2833  CC BY-SA 3.0  Animals are made of many cells. They eat thing...   \n",
       "\n",
       "        target  standard_error  \n",
       "0    -0.340259        0.464009  \n",
       "1    -0.315372        0.480805  \n",
       "2    -0.580118        0.476676  \n",
       "3    -1.054013        0.450007  \n",
       "4     0.247197        0.510845  \n",
       "...        ...             ...  \n",
       "2829  1.711390        0.646900  \n",
       "2830  0.189476        0.535648  \n",
       "2831  0.255209        0.483866  \n",
       "2832 -0.215279        0.514128  \n",
       "2833  0.300779        0.512379  \n",
       "\n",
       "[2834 rows x 6 columns]"
      ]
     },
     "execution_count": 2,
     "metadata": {},
     "output_type": "execute_result"
    }
   ],
   "source": [
    "df_train = pd.read_csv(\"../input/commonlitreadabilityprize/train.csv\")\n",
    "df_test = pd.read_csv(\"../input/commonlitreadabilityprize/test.csv\")\n",
    "sub = pd.read_csv(\"../input/commonlitreadabilityprize/sample_submission.csv\")\n",
    "df_train"
   ]
  },
  {
   "cell_type": "code",
   "execution_count": 3,
   "id": "described-semiconductor",
   "metadata": {
    "execution": {
     "iopub.execute_input": "2021-06-30T05:26:17.839940Z",
     "iopub.status.busy": "2021-06-30T05:26:17.838156Z",
     "iopub.status.idle": "2021-06-30T05:26:17.840723Z",
     "shell.execute_reply": "2021-06-30T05:26:17.841274Z",
     "shell.execute_reply.started": "2021-06-28T19:02:45.123317Z"
    },
    "papermill": {
     "duration": 0.019917,
     "end_time": "2021-06-30T05:26:17.841407",
     "exception": false,
     "start_time": "2021-06-30T05:26:17.821490",
     "status": "completed"
    },
    "tags": []
   },
   "outputs": [],
   "source": [
    "class PaddedDataset(Dataset):\n",
    "    @staticmethod\n",
    "    def clean_text(text):\n",
    "        return re.sub('[^A-Za-z0-9.,]+', ' ', str(text).lower())\n",
    "\n",
    "    def __init__(self, df, tokenizer, max_len, is_test=False):\n",
    "\n",
    "        self.text = df.excerpt.tolist()\n",
    "        if not is_test:\n",
    "            self.target = df.target.tolist()\n",
    "        self.is_test = is_test\n",
    "        self.tokenizer = tokenizer\n",
    "        self.max_len = max_len\n",
    "\n",
    "    def __len__(self):\n",
    "        return len(self.text)\n",
    "\n",
    "    def __getitem__(self, item):\n",
    "        text = self.clean_text(self.text[item])\n",
    "        \n",
    "        inputs = self.tokenizer(self.text[item], \n",
    "                                max_length=self.max_len, \n",
    "                                truncation=True)\n",
    "        input_ids = inputs[\"input_ids\"]\n",
    "        padding_length = self.max_len - len(input_ids)\n",
    "        input_ids = input_ids + ([1] * padding_length)\n",
    "        attention_mask = inputs[\"attention_mask\"] + ([0] * padding_length)\n",
    "        \n",
    "        if self.is_test:\n",
    "            return {\n",
    "                \"input_ids\": torch.tensor(input_ids, dtype=torch.long),\n",
    "                \"attention_mask\": torch.tensor(attention_mask, dtype=torch.long)\n",
    "            }\n",
    "    \n",
    "        return {\n",
    "                \"input_ids\": torch.tensor(input_ids, dtype=torch.long),\n",
    "                \"attention_mask\": torch.tensor(attention_mask, dtype=torch.long),\n",
    "                \"target\": torch.tensor(self.target[item], dtype=torch.float)\n",
    "        }"
   ]
  },
  {
   "cell_type": "code",
   "execution_count": 4,
   "id": "flying-charge",
   "metadata": {
    "execution": {
     "iopub.execute_input": "2021-06-30T05:26:17.862190Z",
     "iopub.status.busy": "2021-06-30T05:26:17.861634Z",
     "iopub.status.idle": "2021-06-30T05:26:17.865642Z",
     "shell.execute_reply": "2021-06-30T05:26:17.865181Z",
     "shell.execute_reply.started": "2021-06-28T19:02:45.136594Z"
    },
    "papermill": {
     "duration": 0.01766,
     "end_time": "2021-06-30T05:26:17.865742",
     "exception": false,
     "start_time": "2021-06-30T05:26:17.848082",
     "status": "completed"
    },
    "tags": []
   },
   "outputs": [],
   "source": [
    "class CommonLitModel(nn.Module):\n",
    "    def __init__(self):\n",
    "        super().__init__()\n",
    "        config = RobertaConfig.from_pretrained(\"../input/commonlit-finetune/data/config.json\")\n",
    "#         config = RobertaConfig.from_pretrained(\"roberta-large\")\n",
    "        self.roberta = RobertaModel(config=config)\n",
    "        self.W = nn.Linear(1024, 1024)\n",
    "        self.V = nn.Linear(1024, 1)\n",
    "        self.dropout = nn.Dropout(0.3) \n",
    "        self.fc = nn.Linear(1024, 1)\n",
    "        \n",
    "    def forward(self, ids, attention):\n",
    "        output = self.roberta(\n",
    "            input_ids=ids, \n",
    "            attention_mask = attention)\n",
    "        output = output[0]\n",
    "        \n",
    "        attention = torch.tanh(self.W(output))\n",
    "        score = self.V(attention)\n",
    "        attention_weights = torch.softmax(score, dim=1)\n",
    "        output = attention_weights * output\n",
    "        output = torch.sum(output, dim=1)\n",
    "\n",
    "        output = self.dropout(output)\n",
    "        output = self.fc(output)\n",
    "        \n",
    "        return output"
   ]
  },
  {
   "cell_type": "code",
   "execution_count": 5,
   "id": "smart-medicaid",
   "metadata": {
    "execution": {
     "iopub.execute_input": "2021-06-30T05:26:17.883422Z",
     "iopub.status.busy": "2021-06-30T05:26:17.882164Z",
     "iopub.status.idle": "2021-06-30T05:26:17.884373Z",
     "shell.execute_reply": "2021-06-30T05:26:17.884820Z",
     "shell.execute_reply.started": "2021-06-28T19:02:45.146751Z"
    },
    "papermill": {
     "duration": 0.012486,
     "end_time": "2021-06-30T05:26:17.884935",
     "exception": false,
     "start_time": "2021-06-30T05:26:17.872449",
     "status": "completed"
    },
    "tags": []
   },
   "outputs": [],
   "source": [
    "MAX_LEN = 256\n",
    "BATCH_SIZE = 8\n",
    "DEVICE = \"cuda\""
   ]
  },
  {
   "cell_type": "code",
   "execution_count": 6,
   "id": "demanding-exposure",
   "metadata": {
    "execution": {
     "iopub.execute_input": "2021-06-30T05:26:17.915752Z",
     "iopub.status.busy": "2021-06-30T05:26:17.914798Z",
     "iopub.status.idle": "2021-06-30T05:28:05.887888Z",
     "shell.execute_reply": "2021-06-30T05:28:05.887416Z",
     "shell.execute_reply.started": "2021-06-28T19:03:03.977219Z"
    },
    "papermill": {
     "duration": 107.996648,
     "end_time": "2021-06-30T05:28:05.888035",
     "exception": false,
     "start_time": "2021-06-30T05:26:17.891387",
     "status": "completed"
    },
    "tags": []
   },
   "outputs": [
    {
     "name": "stdout",
     "output_type": "stream",
     "text": [
      "fold: 0\n"
     ]
    },
    {
     "name": "stderr",
     "output_type": "stream",
     "text": [
      "100%|██████████| 1/1 [00:01<00:00,  1.08s/it]\n"
     ]
    },
    {
     "name": "stdout",
     "output_type": "stream",
     "text": [
      "fold: 1\n"
     ]
    },
    {
     "name": "stderr",
     "output_type": "stream",
     "text": [
      "100%|██████████| 1/1 [00:00<00:00,  5.07it/s]\n"
     ]
    },
    {
     "name": "stdout",
     "output_type": "stream",
     "text": [
      "fold: 2\n"
     ]
    },
    {
     "name": "stderr",
     "output_type": "stream",
     "text": [
      "100%|██████████| 1/1 [00:00<00:00,  5.39it/s]\n"
     ]
    },
    {
     "name": "stdout",
     "output_type": "stream",
     "text": [
      "fold: 3\n"
     ]
    },
    {
     "name": "stderr",
     "output_type": "stream",
     "text": [
      "100%|██████████| 1/1 [00:00<00:00,  4.78it/s]\n"
     ]
    },
    {
     "name": "stdout",
     "output_type": "stream",
     "text": [
      "fold: 4\n"
     ]
    },
    {
     "name": "stderr",
     "output_type": "stream",
     "text": [
      "100%|██████████| 1/1 [00:00<00:00,  5.31it/s]\n"
     ]
    }
   ],
   "source": [
    "tokenizer = RobertaTokenizer.from_pretrained(\"../input/commonlit-finetune/data\")\n",
    "\n",
    "test_dataset = PaddedDataset(df_test, tokenizer, max_len=MAX_LEN, is_test=True)\n",
    "test_dataloader = DataLoader(test_dataset, batch_size=BATCH_SIZE)\n",
    "\n",
    "outputss = []\n",
    "\n",
    "for fold in range(5):\n",
    "    print(\"fold:\", fold)\n",
    "    model = CommonLitModel()\n",
    "    model.load_state_dict(torch.load(f\"../input/commonlit-finetune/model{fold}/model.bin\"))\n",
    "    model.to(DEVICE)\n",
    "\n",
    "    model.eval()\n",
    "\n",
    "    outputs = []\n",
    "\n",
    "    with torch.no_grad():\n",
    "        for data in tqdm(test_dataloader):\n",
    "            input_ids = data[\"input_ids\"]\n",
    "            attention_mask = data[\"attention_mask\"]\n",
    "\n",
    "            input_ids = input_ids.to(DEVICE, dtype=torch.long)\n",
    "            attention_mask = attention_mask.to(DEVICE, dtype=torch.long)\n",
    "\n",
    "            output = model(input_ids, attention_mask)\n",
    "            outputs.extend(output.cpu().detach().view(-1).numpy().tolist())\n",
    "            \n",
    "    outputss.append(outputs)\n",
    "    \n",
    "sub['target'] = np.mean(outputss, axis=0)\n",
    "sub.to_csv('submission.csv', index=False)"
   ]
  },
  {
   "cell_type": "code",
   "execution_count": null,
   "id": "defensive-jewelry",
   "metadata": {
    "papermill": {
     "duration": 0.013158,
     "end_time": "2021-06-30T05:28:05.914191",
     "exception": false,
     "start_time": "2021-06-30T05:28:05.901033",
     "status": "completed"
    },
    "tags": []
   },
   "outputs": [],
   "source": []
  }
 ],
 "metadata": {
  "kernelspec": {
   "display_name": "Python 3",
   "language": "python",
   "name": "python3"
  },
  "language_info": {
   "codemirror_mode": {
    "name": "ipython",
    "version": 3
   },
   "file_extension": ".py",
   "mimetype": "text/x-python",
   "name": "python",
   "nbconvert_exporter": "python",
   "pygments_lexer": "ipython3",
   "version": "3.7.10"
  },
  "papermill": {
   "default_parameters": {},
   "duration": 117.590791,
   "end_time": "2021-06-30T05:28:07.577812",
   "environment_variables": {},
   "exception": null,
   "input_path": "__notebook__.ipynb",
   "output_path": "__notebook__.ipynb",
   "parameters": {},
   "start_time": "2021-06-30T05:26:09.987021",
   "version": "2.3.3"
  }
 },
 "nbformat": 4,
 "nbformat_minor": 5
}
